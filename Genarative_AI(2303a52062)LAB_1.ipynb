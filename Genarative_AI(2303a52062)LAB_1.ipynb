{
  "nbformat": 4,
  "nbformat_minor": 0,
  "metadata": {
    "colab": {
      "provenance": [],
      "authorship_tag": "ABX9TyOZJHhY8Ocl+AH4lVLJLYyh",
      "include_colab_link": true
    },
    "kernelspec": {
      "name": "python3",
      "display_name": "Python 3"
    },
    "language_info": {
      "name": "python"
    }
  },
  "cells": [
    {
      "cell_type": "markdown",
      "metadata": {
        "id": "view-in-github",
        "colab_type": "text"
      },
      "source": [
        "<a href=\"https://colab.research.google.com/github/siddartha-hub/Genarative--AI/blob/main/Genarative_AI(2303a52062)LAB_1.ipynb\" target=\"_parent\"><img src=\"https://colab.research.google.com/assets/colab-badge.svg\" alt=\"Open In Colab\"/></a>"
      ]
    },
    {
      "cell_type": "code",
      "source": [
        "import numpy as np\n",
        "from sklearn.metrics import mean_absolute_error, mean_squared_error\n"
      ],
      "metadata": {
        "id": "8SYTD-kkreJg"
      },
      "execution_count": 10,
      "outputs": []
    },
    {
      "cell_type": "code",
      "source": [
        "actual = np.array([20, 30, 40, 50, 60])\n",
        "predicted = np.array([20.5, 30.3, 40.2, 50.6, 60.7])\n"
      ],
      "metadata": {
        "id": "SdM_fGoKrjfo"
      },
      "execution_count": 11,
      "outputs": []
    },
    {
      "cell_type": "code",
      "source": [
        "n = len(actual)"
      ],
      "metadata": {
        "id": "HAv5a6ozrpyW"
      },
      "execution_count": 12,
      "outputs": []
    },
    {
      "cell_type": "code",
      "source": [
        "mae_manual = np.sum(np.abs(actual - predicted)) / n"
      ],
      "metadata": {
        "id": "5X4aGxbCrwuv"
      },
      "execution_count": 14,
      "outputs": []
    },
    {
      "cell_type": "code",
      "source": [
        "mse_manual = np.sum((actual - predicted) ** 2) / n"
      ],
      "metadata": {
        "id": "ajuohnpErzjU"
      },
      "execution_count": 13,
      "outputs": []
    },
    {
      "cell_type": "code",
      "source": [
        "rmse_manual = np.sqrt(mse_manual)"
      ],
      "metadata": {
        "id": "tCjRiSHMsHS9"
      },
      "execution_count": 15,
      "outputs": []
    },
    {
      "cell_type": "code",
      "source": [
        "mae_sklearn = mean_absolute_error(actual, predicted)\n",
        "mse_sklearn = mean_squared_error(actual, predicted)\n",
        "rmse_sklearn = np.sqrt(mse_sklearn)"
      ],
      "metadata": {
        "id": "4Y6bs4_-sLah"
      },
      "execution_count": 16,
      "outputs": []
    },
    {
      "cell_type": "code",
      "source": [
        "print(\"Manual Calculations:\")\n",
        "print(f\"Mean Absolute Error (MAE): {mae_manual}\")\n",
        "print(f\"Mean Squared Error (MSE): {mse_manual}\")\n",
        "print(f\"Root Mean Squared Error (RMSE): {rmse_manual}\")"
      ],
      "metadata": {
        "colab": {
          "base_uri": "https://localhost:8080/"
        },
        "id": "DsKjBRGDsQoF",
        "outputId": "feeab145-1b46-4d6b-e9ae-d62c693eac1e"
      },
      "execution_count": 17,
      "outputs": [
        {
          "output_type": "stream",
          "name": "stdout",
          "text": [
            "Manual Calculations:\n",
            "Mean Absolute Error (MAE): 0.4600000000000016\n",
            "Mean Squared Error (MSE): 0.24600000000000147\n",
            "Root Mean Squared Error (RMSE): 0.49598387070549127\n"
          ]
        }
      ]
    },
    {
      "cell_type": "code",
      "source": [
        "print(\"\\nUsing sklearn:\")\n",
        "print(f\"Mean Absolute Error (MAE): {mae_sklearn}\")\n",
        "print(f\"Mean Squared Error (MSE): {mse_sklearn}\")\n",
        "print(f\"Root Mean Squared Error (RMSE): {rmse_sklearn}\")"
      ],
      "metadata": {
        "colab": {
          "base_uri": "https://localhost:8080/"
        },
        "id": "-mx3pGdssUzd",
        "outputId": "a854d1b9-e953-4e28-90d4-2c11e9548d71"
      },
      "execution_count": 18,
      "outputs": [
        {
          "output_type": "stream",
          "name": "stdout",
          "text": [
            "\n",
            "Using sklearn:\n",
            "Mean Absolute Error (MAE): 0.4600000000000016\n",
            "Mean Squared Error (MSE): 0.24600000000000147\n",
            "Root Mean Squared Error (RMSE): 0.49598387070549127\n"
          ]
        }
      ]
    },
    {
      "cell_type": "code",
      "source": [
        "if np.isclose(mae_manual, mae_sklearn) and np.isclose(mse_manual, mse_sklearn) and np.isclose(rmse_manual, rmse_sklearn):\n",
        "      print(\"\\nManual calculations match the library results!\")\n",
        "else:\n",
        "          print(\"\\nThere is a discrepancy between manual calculations and library results.\")\n"
      ],
      "metadata": {
        "colab": {
          "base_uri": "https://localhost:8080/"
        },
        "id": "3oRdfQOisfQK",
        "outputId": "031482eb-b8d6-4997-af39-c2c8d424b56a"
      },
      "execution_count": 20,
      "outputs": [
        {
          "output_type": "stream",
          "name": "stdout",
          "text": [
            "\n",
            "Manual calculations match the library results!\n"
          ]
        }
      ]
    },
    {
      "cell_type": "markdown",
      "source": [
        "#Question 2"
      ],
      "metadata": {
        "id": "FXMmAz9Ts6HK"
      }
    },
    {
      "cell_type": "code",
      "source": [
        "import numpy as np\n",
        "from sklearn.metrics import accuracy_score, precision_score, recall_score, f1_score"
      ],
      "metadata": {
        "id": "68Xs9_-VtAFE"
      },
      "execution_count": 40,
      "outputs": []
    },
    {
      "cell_type": "code",
      "source": [
        "actual = np.array([\n",
        "      [0, 0, 1, 1, 2, 0],\n",
        "      [0, 0, 1, 0, 2, 0],\n",
        "      [0, 1, 1, 2, 2, 1],\n",
        "      [0, 2, 1, 0, 2, 2],\n",
        "      [0, 2, 1, 2, 2, 2]\n",
        "                      ])\n"
      ],
      "metadata": {
        "id": "MgWduOz6tTJf"
      },
      "execution_count": 22,
      "outputs": []
    },
    {
      "cell_type": "code",
      "source": [
        "predicted = np.array([\n",
        "      [0, 0, 1, 1, 2, 0],\n",
        "      [0, 0, 1, 0, 2, 0],\n",
        "      [0, 1, 1, 2, 2, 1],\n",
        "      [0, 2, 1, 0, 2, 2],\n",
        "      [0, 2, 1, 2, 2, 2]\n",
        "                      ])\n"
      ],
      "metadata": {
        "id": "XPhW4Ml6tedX"
      },
      "execution_count": 24,
      "outputs": []
    },
    {
      "cell_type": "code",
      "source": [
        "actual_flat = actual.flatten()\n",
        "predicted_flat = predicted.flatten()"
      ],
      "metadata": {
        "id": "fgmKJrN7tn9H"
      },
      "execution_count": 25,
      "outputs": []
    },
    {
      "cell_type": "code",
      "source": [
        "accuracy_manual = np.sum(actual_flat == predicted_flat) / len(actual_flat)\n"
      ],
      "metadata": {
        "id": "jGzTeYcptt6z"
      },
      "execution_count": 26,
      "outputs": []
    },
    {
      "cell_type": "code",
      "source": [
        "unique_classes = np.unique(actual_flat)\n",
        "precision_manual = []\n",
        "recall_manual = []\n",
        "f1_manual = []"
      ],
      "metadata": {
        "id": "1mTf7VsxtxQq"
      },
      "execution_count": 27,
      "outputs": []
    },
    {
      "cell_type": "code",
      "source": [
        "for cls in unique_classes:\n",
        "      tp = np.sum((actual_flat == cls) & (predicted_flat == cls))\n",
        "      fp = np.sum((actual_flat != cls) & (predicted_flat == cls))\n",
        "      fn = np.sum((actual_flat == cls) & (predicted_flat != cls))"
      ],
      "metadata": {
        "id": "gtPaodjFt0rO"
      },
      "execution_count": 29,
      "outputs": []
    },
    {
      "cell_type": "code",
      "source": [
        "precision = tp / (tp + fp) if (tp + fp) > 0 else 0\n",
        "recall = tp / (tp + fn) if (tp + fn) > 0 else 0\n",
        "f1 = 2 * (precision * recall) / (precision + recall) if (precision + recall) > 0 else 0\n"
      ],
      "metadata": {
        "id": "8AAsx6HAt5p6"
      },
      "execution_count": 31,
      "outputs": []
    },
    {
      "cell_type": "code",
      "source": [
        "precision_manual.append(precision)\n",
        "recall_manual.append(recall)\n",
        "f1_manual.append(f1)"
      ],
      "metadata": {
        "id": "RPz-YwLkuBf0"
      },
      "execution_count": 32,
      "outputs": []
    },
    {
      "cell_type": "code",
      "source": [
        "accuracy_sklearn = accuracy_score(actual_flat, predicted_flat)\n",
        "precision_sklearn = precision_score(actual_flat, predicted_flat, average=None)\n",
        "recall_sklearn = recall_score(actual_flat, predicted_flat, average=None)\n",
        "f1_sklearn = f1_score(actual_flat, predicted_flat, average=None)\n",
        "\n",
        "print(\"Manual Calculations:\")\n",
        "print(f\"Accuracy: {accuracy_manual}\")\n",
        "print(f\"Precision: {precision_manual}\")\n",
        "print(f\"Recall: {recall_manual}\")\n",
        "print(f\"F1-Score: {f1_manual}\")\n",
        "\n",
        "print(\"\\nUsing sklearn:\")\n",
        "print(f\"Accuracy: {accuracy_sklearn}\")\n",
        "print(f\"Precision: {precision_sklearn}\")\n",
        "print(f\"Recall: {recall_sklearn}\")\n",
        "print(f\"F1-Score: {f1_sklearn}\")\n",
        "\n",
        "if (np.isclose(accuracy_manual, accuracy_sklearn) and\n",
        "    np.allclose(precision_manual, precision_sklearn) and\n",
        "        np.allclose(recall_manual, recall_sklearn) and\n",
        "            np.allclose(f1_manual, f1_sklearn)):\n",
        "                print(\"\\nManual calculations match the library results!\")\n",
        "else:\n",
        "                    print(\"\\nThere is a discrepancy between manual calculations and library results.\")\n"
      ],
      "metadata": {
        "colab": {
          "base_uri": "https://localhost:8080/"
        },
        "id": "WCifq_Csu1g_",
        "outputId": "bdd68a90-1af7-4f85-8939-f3b009c158d9"
      },
      "execution_count": 42,
      "outputs": [
        {
          "output_type": "stream",
          "name": "stdout",
          "text": [
            "Manual Calculations:\n",
            "Accuracy: 1.0\n",
            "Precision: [1.0]\n",
            "Recall: [1.0]\n",
            "F1-Score: [1.0]\n",
            "\n",
            "Using sklearn:\n",
            "Accuracy: 1.0\n",
            "Precision: [1. 1. 1.]\n",
            "Recall: [1. 1. 1.]\n",
            "F1-Score: [1. 1. 1.]\n",
            "\n",
            "Manual calculations match the library results!\n"
          ]
        }
      ]
    }
  ]
}