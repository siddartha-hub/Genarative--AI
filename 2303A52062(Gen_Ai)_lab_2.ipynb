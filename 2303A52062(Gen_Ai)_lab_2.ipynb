{
  "nbformat": 4,
  "nbformat_minor": 0,
  "metadata": {
    "colab": {
      "provenance": [],
      "authorship_tag": "ABX9TyOFwobRqRW/M7pvwE3/XkZV",
      "include_colab_link": true
    },
    "kernelspec": {
      "name": "python3",
      "display_name": "Python 3"
    },
    "language_info": {
      "name": "python"
    }
  },
  "cells": [
    {
      "cell_type": "markdown",
      "metadata": {
        "id": "view-in-github",
        "colab_type": "text"
      },
      "source": [
        "<a href=\"https://colab.research.google.com/github/siddartha-hub/Genarative--AI/blob/main/2303A52062(Gen_Ai)_lab_2.ipynb\" target=\"_parent\"><img src=\"https://colab.research.google.com/assets/colab-badge.svg\" alt=\"Open In Colab\"/></a>"
      ]
    },
    {
      "cell_type": "markdown",
      "source": [
        "#Question 1"
      ],
      "metadata": {
        "id": "1qBRRSjOxkHN"
      }
    },
    {
      "cell_type": "code",
      "source": [
        "from scipy.optimize import linprog"
      ],
      "metadata": {
        "id": "476Pzctqrxsm"
      },
      "execution_count": 1,
      "outputs": []
    },
    {
      "cell_type": "code",
      "source": [
        "c = [-6, -5]\n"
      ],
      "metadata": {
        "id": "AcmLn5GZvoqn"
      },
      "execution_count": 3,
      "outputs": []
    },
    {
      "cell_type": "code",
      "source": [
        "A_ub = [\n",
        "    [1, 1],\n",
        "    [3, 2]\n",
        "]"
      ],
      "metadata": {
        "id": "LceUlAWDvys5"
      },
      "execution_count": 2,
      "outputs": []
    },
    {
      "cell_type": "code",
      "source": [
        "b_ub = [5, 12]"
      ],
      "metadata": {
        "id": "7S_lWuKVv3F5"
      },
      "execution_count": 4,
      "outputs": []
    },
    {
      "cell_type": "code",
      "source": [
        "x_bounds = (0, None)\n",
        "y_bounds = (0, None)"
      ],
      "metadata": {
        "id": "GpjZgWHjwL3K"
      },
      "execution_count": 5,
      "outputs": []
    },
    {
      "cell_type": "code",
      "source": [
        "result = linprog(c, A_ub=A_ub, b_ub=b_ub, bounds=[x_bounds, y_bounds], method=\"highs\")\n"
      ],
      "metadata": {
        "id": "QiFO8hQhwPHW"
      },
      "execution_count": 6,
      "outputs": []
    },
    {
      "cell_type": "code",
      "source": [
        "if result.success:\n",
        "    print(f\"Optimal number of A to produce: {result.x[0]:.2f}\")\n",
        "    print(f\"Optimal number of B to produce: {result.x[1]:.2f}\")\n",
        "    print(f\"Maximum Profit: {-result.fun:.2f}\")\n",
        "else:\n",
        "    print(\"Optimization failed:\", result.message)"
      ],
      "metadata": {
        "colab": {
          "base_uri": "https://localhost:8080/"
        },
        "id": "n8L2urBCwyjo",
        "outputId": "e63dcea1-b381-4e8c-c364-a21852daab81"
      },
      "execution_count": 7,
      "outputs": [
        {
          "output_type": "stream",
          "name": "stdout",
          "text": [
            "Optimal number of A to produce: 2.00\n",
            "Optimal number of B to produce: 3.00\n",
            "Maximum Profit: 27.00\n"
          ]
        }
      ]
    },
    {
      "cell_type": "markdown",
      "source": [
        "#Question 2"
      ],
      "metadata": {
        "id": "urhjn3OxxTZD"
      }
    },
    {
      "cell_type": "code",
      "source": [
        "from scipy.optimize import linprog\n"
      ],
      "metadata": {
        "id": "c0I6wWPyxY5r"
      },
      "execution_count": 10,
      "outputs": []
    },
    {
      "cell_type": "code",
      "source": [
        "c = [-50, -120]"
      ],
      "metadata": {
        "id": "Of1tmVZF6VEk"
      },
      "execution_count": 11,
      "outputs": []
    },
    {
      "cell_type": "code",
      "source": [
        "A_ub = [\n",
        "    [1, 1],\n",
        "    [7000, 2000],\n",
        "    [10, 30]\n",
        "]"
      ],
      "metadata": {
        "id": "tUm1vioJ6YXS"
      },
      "execution_count": 12,
      "outputs": []
    },
    {
      "cell_type": "code",
      "source": [
        "b_ub = [110, 700000, 1200]"
      ],
      "metadata": {
        "id": "5XG4U8H36xBd"
      },
      "execution_count": 13,
      "outputs": []
    },
    {
      "cell_type": "code",
      "source": [
        "x_bounds = (0, None)\n",
        "y_bounds = (0, None)\n"
      ],
      "metadata": {
        "id": "qziWADxK60AY"
      },
      "execution_count": 14,
      "outputs": []
    },
    {
      "cell_type": "code",
      "source": [
        "result = linprog(c, A_ub=A_ub, b_ub=b_ub, bounds=[x_bounds, y_bounds], method=\"highs\")\n"
      ],
      "metadata": {
        "id": "j9AmFwxx67TD"
      },
      "execution_count": 16,
      "outputs": []
    },
    {
      "cell_type": "code",
      "source": [
        "if result.success:\n",
        "    print(f\"Optimal hectares of Wheat (x1): {result.x[0]:.2f}\")\n",
        "    print(f\"Optimal hectares of Barley (x2): {result.x[1]:.2f}\")\n",
        "    print(f\"Maximum Profit: {-result.fun:.2f}\")\n",
        "else:\n",
        "    print(\"Optimization failed:\", result.message)\n"
      ],
      "metadata": {
        "colab": {
          "base_uri": "https://localhost:8080/"
        },
        "id": "EdFof9X-6_6T",
        "outputId": "e806ec10-7344-4f4b-9ff7-516507faaa3f"
      },
      "execution_count": 17,
      "outputs": [
        {
          "output_type": "stream",
          "name": "stdout",
          "text": [
            "Optimal hectares of Wheat (x1): 97.89\n",
            "Optimal hectares of Barley (x2): 7.37\n",
            "Maximum Profit: 5778.95\n"
          ]
        }
      ]
    }
  ]
}