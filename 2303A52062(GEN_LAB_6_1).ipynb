{
  "nbformat": 4,
  "nbformat_minor": 0,
  "metadata": {
    "colab": {
      "provenance": [],
      "authorship_tag": "ABX9TyMomMzqZLAMvWLWajIkY6KH",
      "include_colab_link": true
    },
    "kernelspec": {
      "name": "python3",
      "display_name": "Python 3"
    },
    "language_info": {
      "name": "python"
    }
  },
  "cells": [
    {
      "cell_type": "markdown",
      "metadata": {
        "id": "view-in-github",
        "colab_type": "text"
      },
      "source": [
        "<a href=\"https://colab.research.google.com/github/siddartha-hub/Genarative--AI/blob/main/2303A52062(GEN_LAB_6_1).ipynb\" target=\"_parent\"><img src=\"https://colab.research.google.com/assets/colab-badge.svg\" alt=\"Open In Colab\"/></a>"
      ]
    },
    {
      "cell_type": "code",
      "execution_count": 1,
      "metadata": {
        "id": "rlcMR3zT2tGP"
      },
      "outputs": [],
      "source": [
        "import pandas as pd\n",
        "import numpy as np\n",
        "from sklearn.model_selection import train_test_split\n",
        "from sklearn.preprocessing import StandardScaler\n",
        "from keras.models import Sequential\n",
        "from keras.layers import Dense\n",
        "from keras.optimizers import SGD\n"
      ]
    },
    {
      "cell_type": "code",
      "source": [
        "data = pd.read_csv('/content/Housing.csv')"
      ],
      "metadata": {
        "id": "O0T6mCgL3Z3P"
      },
      "execution_count": 8,
      "outputs": []
    },
    {
      "cell_type": "code",
      "source": [
        "data['mainroad'] = data['mainroad'].map({'yes': 1, 'no': 0})\n",
        "data['guestroom'] = data['guestroom'].map({'yes': 1, 'no': 0})\n",
        "data['basement'] = data['basement'].map({'yes': 1, 'no': 0})\n",
        "data['hotwaterheating'] = data['hotwaterheating'].map({'yes': 1, 'no': 0})\n",
        "data['airconditioning'] = data['airconditioning'].map({'yes': 1, 'no': 0})\n",
        "data['prefarea'] = data['prefarea'].map({'yes': 1, 'no': 0})\n",
        "data['furnishingstatus'] = data['furnishingstatus'].map({'furnished': 2, 'semi-furnished': 1, 'unfurnished': 0})\n"
      ],
      "metadata": {
        "id": "9K4Icv958Lxm"
      },
      "execution_count": 9,
      "outputs": []
    },
    {
      "cell_type": "code",
      "source": [
        "X = data.drop('price', axis=1)\n",
        "y = data['price']"
      ],
      "metadata": {
        "id": "4HcoTMo-8RHj"
      },
      "execution_count": 10,
      "outputs": []
    },
    {
      "cell_type": "code",
      "source": [
        "X_train, X_test, y_train, y_test = train_test_split(X, y, test_size=0.2, random_state=42)"
      ],
      "metadata": {
        "id": "YwB1_nGM8URk"
      },
      "execution_count": 11,
      "outputs": []
    },
    {
      "cell_type": "code",
      "source": [
        "scaler = StandardScaler()\n",
        "X_train = scaler.fit_transform(X_train)\n",
        "X_test = scaler.transform(X_test)"
      ],
      "metadata": {
        "id": "23Ra46WZ8X1n"
      },
      "execution_count": 12,
      "outputs": []
    },
    {
      "cell_type": "code",
      "source": [
        "model = Sequential()\n",
        "model.add(Dense(15, input_dim=X_train.shape[1], activation='tanh'))\n",
        "model.add(Dense(20, activation='tanh'))\n",
        "model.add(Dense(15, activation='tanh'))\n",
        "model.add(Dense(1, activation='linear'))\n"
      ],
      "metadata": {
        "colab": {
          "base_uri": "https://localhost:8080/"
        },
        "id": "YVXlZdZE8avZ",
        "outputId": "28781ec1-1fa2-4cfe-cb83-d04ced20c7cb"
      },
      "execution_count": 13,
      "outputs": [
        {
          "output_type": "stream",
          "name": "stderr",
          "text": [
            "/usr/local/lib/python3.11/dist-packages/keras/src/layers/core/dense.py:87: UserWarning: Do not pass an `input_shape`/`input_dim` argument to a layer. When using Sequential models, prefer using an `Input(shape)` object as the first layer in the model instead.\n",
            "  super().__init__(activity_regularizer=activity_regularizer, **kwargs)\n"
          ]
        }
      ]
    },
    {
      "cell_type": "code",
      "source": [
        "optimizer = SGD(learning_rate=0.01)\n",
        "model.compile(loss='mean_squared_error', optimizer=optimizer, metrics=['mean_squared_error'])\n"
      ],
      "metadata": {
        "id": "MUtjIhRV8fjr"
      },
      "execution_count": 14,
      "outputs": []
    },
    {
      "cell_type": "code",
      "source": [
        "history = model.fit(X_train, y_train, epochs=100, batch_size=16, validation_split=0.2)\n",
        "\n",
        "\n",
        "model.save('housing_model.h5')"
      ],
      "metadata": {
        "colab": {
          "base_uri": "https://localhost:8080/"
        },
        "id": "2OO3ktr98g86",
        "outputId": "7c130543-6495-4e95-807b-f95a9a75cc1c"
      },
      "execution_count": 16,
      "outputs": [
        {
          "output_type": "stream",
          "name": "stdout",
          "text": [
            "Epoch 1/100\n",
            "\u001b[1m22/22\u001b[0m \u001b[32m━━━━━━━━━━━━━━━━━━━━\u001b[0m\u001b[37m\u001b[0m \u001b[1m0s\u001b[0m 20ms/step - loss: 2995700629504.0000 - mean_squared_error: 2995700629504.0000 - val_loss: 3401274621952.0000 - val_mean_squared_error: 3401274621952.0000\n",
            "Epoch 2/100\n",
            "\u001b[1m22/22\u001b[0m \u001b[32m━━━━━━━━━━━━━━━━━━━━\u001b[0m\u001b[37m\u001b[0m \u001b[1m0s\u001b[0m 14ms/step - loss: 2847138906112.0000 - mean_squared_error: 2847138906112.0000 - val_loss: 3409406328832.0000 - val_mean_squared_error: 3409406328832.0000\n",
            "Epoch 3/100\n",
            "\u001b[1m22/22\u001b[0m \u001b[32m━━━━━━━━━━━━━━━━━━━━\u001b[0m\u001b[37m\u001b[0m \u001b[1m1s\u001b[0m 10ms/step - loss: 3615638159360.0000 - mean_squared_error: 3615638159360.0000 - val_loss: 3414115483648.0000 - val_mean_squared_error: 3414115483648.0000\n",
            "Epoch 4/100\n",
            "\u001b[1m22/22\u001b[0m \u001b[32m━━━━━━━━━━━━━━━━━━━━\u001b[0m\u001b[37m\u001b[0m \u001b[1m0s\u001b[0m 9ms/step - loss: 2835707592704.0000 - mean_squared_error: 2835707592704.0000 - val_loss: 3404944637952.0000 - val_mean_squared_error: 3404944637952.0000\n",
            "Epoch 5/100\n",
            "\u001b[1m22/22\u001b[0m \u001b[32m━━━━━━━━━━━━━━━━━━━━\u001b[0m\u001b[37m\u001b[0m \u001b[1m0s\u001b[0m 6ms/step - loss: 2994417434624.0000 - mean_squared_error: 2994417434624.0000 - val_loss: 3401626943488.0000 - val_mean_squared_error: 3401626943488.0000\n",
            "Epoch 6/100\n",
            "\u001b[1m22/22\u001b[0m \u001b[32m━━━━━━━━━━━━━━━━━━━━\u001b[0m\u001b[37m\u001b[0m \u001b[1m0s\u001b[0m 5ms/step - loss: 2652225929216.0000 - mean_squared_error: 2652225929216.0000 - val_loss: 3401775841280.0000 - val_mean_squared_error: 3401775841280.0000\n",
            "Epoch 7/100\n",
            "\u001b[1m22/22\u001b[0m \u001b[32m━━━━━━━━━━━━━━━━━━━━\u001b[0m\u001b[37m\u001b[0m \u001b[1m0s\u001b[0m 6ms/step - loss: 2651681456128.0000 - mean_squared_error: 2651681456128.0000 - val_loss: 3579100266496.0000 - val_mean_squared_error: 3579100266496.0000\n",
            "Epoch 8/100\n",
            "\u001b[1m22/22\u001b[0m \u001b[32m━━━━━━━━━━━━━━━━━━━━\u001b[0m\u001b[37m\u001b[0m \u001b[1m0s\u001b[0m 5ms/step - loss: 2798891302912.0000 - mean_squared_error: 2798891302912.0000 - val_loss: 3410979717120.0000 - val_mean_squared_error: 3410979717120.0000\n",
            "Epoch 9/100\n",
            "\u001b[1m22/22\u001b[0m \u001b[32m━━━━━━━━━━━━━━━━━━━━\u001b[0m\u001b[37m\u001b[0m \u001b[1m0s\u001b[0m 7ms/step - loss: 2992454238208.0000 - mean_squared_error: 2992454238208.0000 - val_loss: 3413140307968.0000 - val_mean_squared_error: 3413140307968.0000\n",
            "Epoch 10/100\n",
            "\u001b[1m22/22\u001b[0m \u001b[32m━━━━━━━━━━━━━━━━━━━━\u001b[0m\u001b[37m\u001b[0m \u001b[1m0s\u001b[0m 5ms/step - loss: 3015830667264.0000 - mean_squared_error: 3015830667264.0000 - val_loss: 3405423312896.0000 - val_mean_squared_error: 3405423312896.0000\n",
            "Epoch 11/100\n",
            "\u001b[1m22/22\u001b[0m \u001b[32m━━━━━━━━━━━━━━━━━━━━\u001b[0m\u001b[37m\u001b[0m \u001b[1m0s\u001b[0m 5ms/step - loss: 3471347023872.0000 - mean_squared_error: 3471347023872.0000 - val_loss: 3403557896192.0000 - val_mean_squared_error: 3403557896192.0000\n",
            "Epoch 12/100\n",
            "\u001b[1m22/22\u001b[0m \u001b[32m━━━━━━━━━━━━━━━━━━━━\u001b[0m\u001b[37m\u001b[0m \u001b[1m0s\u001b[0m 6ms/step - loss: 3162067697664.0000 - mean_squared_error: 3162067697664.0000 - val_loss: 3407832416256.0000 - val_mean_squared_error: 3407832416256.0000\n",
            "Epoch 13/100\n",
            "\u001b[1m22/22\u001b[0m \u001b[32m━━━━━━━━━━━━━━━━━━━━\u001b[0m\u001b[37m\u001b[0m \u001b[1m0s\u001b[0m 5ms/step - loss: 2642776686592.0000 - mean_squared_error: 2642776686592.0000 - val_loss: 3501758349312.0000 - val_mean_squared_error: 3501758349312.0000\n",
            "Epoch 14/100\n",
            "\u001b[1m22/22\u001b[0m \u001b[32m━━━━━━━━━━━━━━━━━━━━\u001b[0m\u001b[37m\u001b[0m \u001b[1m0s\u001b[0m 5ms/step - loss: 3366387974144.0000 - mean_squared_error: 3366387974144.0000 - val_loss: 3438192361472.0000 - val_mean_squared_error: 3438192361472.0000\n",
            "Epoch 15/100\n",
            "\u001b[1m22/22\u001b[0m \u001b[32m━━━━━━━━━━━━━━━━━━━━\u001b[0m\u001b[37m\u001b[0m \u001b[1m0s\u001b[0m 5ms/step - loss: 3239635320832.0000 - mean_squared_error: 3239635320832.0000 - val_loss: 3496814837760.0000 - val_mean_squared_error: 3496814837760.0000\n",
            "Epoch 16/100\n",
            "\u001b[1m22/22\u001b[0m \u001b[32m━━━━━━━━━━━━━━━━━━━━\u001b[0m\u001b[37m\u001b[0m \u001b[1m0s\u001b[0m 5ms/step - loss: 3552587022336.0000 - mean_squared_error: 3552587022336.0000 - val_loss: 3447548280832.0000 - val_mean_squared_error: 3447548280832.0000\n",
            "Epoch 17/100\n",
            "\u001b[1m22/22\u001b[0m \u001b[32m━━━━━━━━━━━━━━━━━━━━\u001b[0m\u001b[37m\u001b[0m \u001b[1m0s\u001b[0m 5ms/step - loss: 3201490747392.0000 - mean_squared_error: 3201490747392.0000 - val_loss: 3448766464000.0000 - val_mean_squared_error: 3448766464000.0000\n",
            "Epoch 18/100\n",
            "\u001b[1m22/22\u001b[0m \u001b[32m━━━━━━━━━━━━━━━━━━━━\u001b[0m\u001b[37m\u001b[0m \u001b[1m0s\u001b[0m 5ms/step - loss: 3213681491968.0000 - mean_squared_error: 3213681491968.0000 - val_loss: 3410303123456.0000 - val_mean_squared_error: 3410303123456.0000\n",
            "Epoch 19/100\n",
            "\u001b[1m22/22\u001b[0m \u001b[32m━━━━━━━━━━━━━━━━━━━━\u001b[0m\u001b[37m\u001b[0m \u001b[1m0s\u001b[0m 5ms/step - loss: 3279822520320.0000 - mean_squared_error: 3279822520320.0000 - val_loss: 3404061212672.0000 - val_mean_squared_error: 3404061212672.0000\n",
            "Epoch 20/100\n",
            "\u001b[1m22/22\u001b[0m \u001b[32m━━━━━━━━━━━━━━━━━━━━\u001b[0m\u001b[37m\u001b[0m \u001b[1m0s\u001b[0m 5ms/step - loss: 2620293906432.0000 - mean_squared_error: 2620293906432.0000 - val_loss: 3670770712576.0000 - val_mean_squared_error: 3670770712576.0000\n",
            "Epoch 21/100\n",
            "\u001b[1m22/22\u001b[0m \u001b[32m━━━━━━━━━━━━━━━━━━━━\u001b[0m\u001b[37m\u001b[0m \u001b[1m0s\u001b[0m 5ms/step - loss: 3184705929216.0000 - mean_squared_error: 3184705929216.0000 - val_loss: 3538945048576.0000 - val_mean_squared_error: 3538945048576.0000\n",
            "Epoch 22/100\n",
            "\u001b[1m22/22\u001b[0m \u001b[32m━━━━━━━━━━━━━━━━━━━━\u001b[0m\u001b[37m\u001b[0m \u001b[1m0s\u001b[0m 7ms/step - loss: 3050330128384.0000 - mean_squared_error: 3050330128384.0000 - val_loss: 3401183657984.0000 - val_mean_squared_error: 3401183657984.0000\n",
            "Epoch 23/100\n",
            "\u001b[1m22/22\u001b[0m \u001b[32m━━━━━━━━━━━━━━━━━━━━\u001b[0m\u001b[37m\u001b[0m \u001b[1m0s\u001b[0m 5ms/step - loss: 3051763531776.0000 - mean_squared_error: 3051763531776.0000 - val_loss: 3475100139520.0000 - val_mean_squared_error: 3475100139520.0000\n",
            "Epoch 24/100\n",
            "\u001b[1m22/22\u001b[0m \u001b[32m━━━━━━━━━━━━━━━━━━━━\u001b[0m\u001b[37m\u001b[0m \u001b[1m0s\u001b[0m 5ms/step - loss: 3082377494528.0000 - mean_squared_error: 3082377494528.0000 - val_loss: 3414968500224.0000 - val_mean_squared_error: 3414968500224.0000\n",
            "Epoch 25/100\n",
            "\u001b[1m22/22\u001b[0m \u001b[32m━━━━━━━━━━━━━━━━━━━━\u001b[0m\u001b[37m\u001b[0m \u001b[1m0s\u001b[0m 5ms/step - loss: 3169023164416.0000 - mean_squared_error: 3169023164416.0000 - val_loss: 3414770843648.0000 - val_mean_squared_error: 3414770843648.0000\n",
            "Epoch 26/100\n",
            "\u001b[1m22/22\u001b[0m \u001b[32m━━━━━━━━━━━━━━━━━━━━\u001b[0m\u001b[37m\u001b[0m \u001b[1m0s\u001b[0m 5ms/step - loss: 3614259019776.0000 - mean_squared_error: 3614259019776.0000 - val_loss: 3420149514240.0000 - val_mean_squared_error: 3420149514240.0000\n",
            "Epoch 27/100\n",
            "\u001b[1m22/22\u001b[0m \u001b[32m━━━━━━━━━━━━━━━━━━━━\u001b[0m\u001b[37m\u001b[0m \u001b[1m0s\u001b[0m 5ms/step - loss: 2810796834816.0000 - mean_squared_error: 2810796834816.0000 - val_loss: 3829740863488.0000 - val_mean_squared_error: 3829740863488.0000\n",
            "Epoch 28/100\n",
            "\u001b[1m22/22\u001b[0m \u001b[32m━━━━━━━━━━━━━━━━━━━━\u001b[0m\u001b[37m\u001b[0m \u001b[1m0s\u001b[0m 5ms/step - loss: 2772033077248.0000 - mean_squared_error: 2772033077248.0000 - val_loss: 3578899202048.0000 - val_mean_squared_error: 3578899202048.0000\n",
            "Epoch 29/100\n",
            "\u001b[1m22/22\u001b[0m \u001b[32m━━━━━━━━━━━━━━━━━━━━\u001b[0m\u001b[37m\u001b[0m \u001b[1m0s\u001b[0m 5ms/step - loss: 3309561446400.0000 - mean_squared_error: 3309561446400.0000 - val_loss: 3479954522112.0000 - val_mean_squared_error: 3479954522112.0000\n",
            "Epoch 30/100\n",
            "\u001b[1m22/22\u001b[0m \u001b[32m━━━━━━━━━━━━━━━━━━━━\u001b[0m\u001b[37m\u001b[0m \u001b[1m0s\u001b[0m 5ms/step - loss: 3334861225984.0000 - mean_squared_error: 3334861225984.0000 - val_loss: 3444718960640.0000 - val_mean_squared_error: 3444718960640.0000\n",
            "Epoch 31/100\n",
            "\u001b[1m22/22\u001b[0m \u001b[32m━━━━━━━━━━━━━━━━━━━━\u001b[0m\u001b[37m\u001b[0m \u001b[1m0s\u001b[0m 6ms/step - loss: 3085346799616.0000 - mean_squared_error: 3085346799616.0000 - val_loss: 3409948442624.0000 - val_mean_squared_error: 3409948442624.0000\n",
            "Epoch 32/100\n",
            "\u001b[1m22/22\u001b[0m \u001b[32m━━━━━━━━━━━━━━━━━━━━\u001b[0m\u001b[37m\u001b[0m \u001b[1m0s\u001b[0m 5ms/step - loss: 3103047548928.0000 - mean_squared_error: 3103047548928.0000 - val_loss: 3481328680960.0000 - val_mean_squared_error: 3481328680960.0000\n",
            "Epoch 33/100\n",
            "\u001b[1m22/22\u001b[0m \u001b[32m━━━━━━━━━━━━━━━━━━━━\u001b[0m\u001b[37m\u001b[0m \u001b[1m0s\u001b[0m 5ms/step - loss: 3172918099968.0000 - mean_squared_error: 3172918099968.0000 - val_loss: 3403376754688.0000 - val_mean_squared_error: 3403376754688.0000\n",
            "Epoch 34/100\n",
            "\u001b[1m22/22\u001b[0m \u001b[32m━━━━━━━━━━━━━━━━━━━━\u001b[0m\u001b[37m\u001b[0m \u001b[1m0s\u001b[0m 5ms/step - loss: 3309822803968.0000 - mean_squared_error: 3309822803968.0000 - val_loss: 3419445133312.0000 - val_mean_squared_error: 3419445133312.0000\n",
            "Epoch 35/100\n",
            "\u001b[1m22/22\u001b[0m \u001b[32m━━━━━━━━━━━━━━━━━━━━\u001b[0m\u001b[37m\u001b[0m \u001b[1m0s\u001b[0m 7ms/step - loss: 2806705291264.0000 - mean_squared_error: 2806705291264.0000 - val_loss: 3408361684992.0000 - val_mean_squared_error: 3408361684992.0000\n",
            "Epoch 36/100\n",
            "\u001b[1m22/22\u001b[0m \u001b[32m━━━━━━━━━━━━━━━━━━━━\u001b[0m\u001b[37m\u001b[0m \u001b[1m0s\u001b[0m 5ms/step - loss: 3191133962240.0000 - mean_squared_error: 3191133962240.0000 - val_loss: 3402025926656.0000 - val_mean_squared_error: 3402025926656.0000\n",
            "Epoch 37/100\n",
            "\u001b[1m22/22\u001b[0m \u001b[32m━━━━━━━━━━━━━━━━━━━━\u001b[0m\u001b[37m\u001b[0m \u001b[1m0s\u001b[0m 5ms/step - loss: 3028813873152.0000 - mean_squared_error: 3028813873152.0000 - val_loss: 3423945359360.0000 - val_mean_squared_error: 3423945359360.0000\n",
            "Epoch 38/100\n",
            "\u001b[1m22/22\u001b[0m \u001b[32m━━━━━━━━━━━━━━━━━━━━\u001b[0m\u001b[37m\u001b[0m \u001b[1m0s\u001b[0m 5ms/step - loss: 3358009065472.0000 - mean_squared_error: 3358009065472.0000 - val_loss: 3405802635264.0000 - val_mean_squared_error: 3405802635264.0000\n",
            "Epoch 39/100\n",
            "\u001b[1m22/22\u001b[0m \u001b[32m━━━━━━━━━━━━━━━━━━━━\u001b[0m\u001b[37m\u001b[0m \u001b[1m0s\u001b[0m 5ms/step - loss: 3007027085312.0000 - mean_squared_error: 3007027085312.0000 - val_loss: 3535783067648.0000 - val_mean_squared_error: 3535783067648.0000\n",
            "Epoch 40/100\n",
            "\u001b[1m22/22\u001b[0m \u001b[32m━━━━━━━━━━━━━━━━━━━━\u001b[0m\u001b[37m\u001b[0m \u001b[1m0s\u001b[0m 6ms/step - loss: 3429331107840.0000 - mean_squared_error: 3429331107840.0000 - val_loss: 3480564269056.0000 - val_mean_squared_error: 3480564269056.0000\n",
            "Epoch 41/100\n",
            "\u001b[1m22/22\u001b[0m \u001b[32m━━━━━━━━━━━━━━━━━━━━\u001b[0m\u001b[37m\u001b[0m \u001b[1m0s\u001b[0m 5ms/step - loss: 3103014780928.0000 - mean_squared_error: 3103014780928.0000 - val_loss: 3408648732672.0000 - val_mean_squared_error: 3408648732672.0000\n",
            "Epoch 42/100\n",
            "\u001b[1m22/22\u001b[0m \u001b[32m━━━━━━━━━━━━━━━━━━━━\u001b[0m\u001b[37m\u001b[0m \u001b[1m0s\u001b[0m 6ms/step - loss: 2949273616384.0000 - mean_squared_error: 2949273616384.0000 - val_loss: 3468415729664.0000 - val_mean_squared_error: 3468415729664.0000\n",
            "Epoch 43/100\n",
            "\u001b[1m22/22\u001b[0m \u001b[32m━━━━━━━━━━━━━━━━━━━━\u001b[0m\u001b[37m\u001b[0m \u001b[1m0s\u001b[0m 5ms/step - loss: 3437397278720.0000 - mean_squared_error: 3437397278720.0000 - val_loss: 3413141880832.0000 - val_mean_squared_error: 3413141880832.0000\n",
            "Epoch 44/100\n",
            "\u001b[1m22/22\u001b[0m \u001b[32m━━━━━━━━━━━━━━━━━━━━\u001b[0m\u001b[37m\u001b[0m \u001b[1m0s\u001b[0m 5ms/step - loss: 2963223085056.0000 - mean_squared_error: 2963223085056.0000 - val_loss: 3405511393280.0000 - val_mean_squared_error: 3405511393280.0000\n",
            "Epoch 45/100\n",
            "\u001b[1m22/22\u001b[0m \u001b[32m━━━━━━━━━━━━━━━━━━━━\u001b[0m\u001b[37m\u001b[0m \u001b[1m0s\u001b[0m 5ms/step - loss: 3795374309376.0000 - mean_squared_error: 3795374309376.0000 - val_loss: 3488533446656.0000 - val_mean_squared_error: 3488533446656.0000\n",
            "Epoch 46/100\n",
            "\u001b[1m22/22\u001b[0m \u001b[32m━━━━━━━━━━━━━━━━━━━━\u001b[0m\u001b[37m\u001b[0m \u001b[1m0s\u001b[0m 5ms/step - loss: 3116921520128.0000 - mean_squared_error: 3116921520128.0000 - val_loss: 3428206772224.0000 - val_mean_squared_error: 3428206772224.0000\n",
            "Epoch 47/100\n",
            "\u001b[1m22/22\u001b[0m \u001b[32m━━━━━━━━━━━━━━━━━━━━\u001b[0m\u001b[37m\u001b[0m \u001b[1m0s\u001b[0m 5ms/step - loss: 2677513388032.0000 - mean_squared_error: 2677513388032.0000 - val_loss: 3408471785472.0000 - val_mean_squared_error: 3408471785472.0000\n",
            "Epoch 48/100\n",
            "\u001b[1m22/22\u001b[0m \u001b[32m━━━━━━━━━━━━━━━━━━━━\u001b[0m\u001b[37m\u001b[0m \u001b[1m0s\u001b[0m 5ms/step - loss: 3753372024832.0000 - mean_squared_error: 3753372024832.0000 - val_loss: 3409041424384.0000 - val_mean_squared_error: 3409041424384.0000\n",
            "Epoch 49/100\n",
            "\u001b[1m22/22\u001b[0m \u001b[32m━━━━━━━━━━━━━━━━━━━━\u001b[0m\u001b[37m\u001b[0m \u001b[1m0s\u001b[0m 6ms/step - loss: 2587968929792.0000 - mean_squared_error: 2587968929792.0000 - val_loss: 3406841249792.0000 - val_mean_squared_error: 3406841249792.0000\n",
            "Epoch 50/100\n",
            "\u001b[1m22/22\u001b[0m \u001b[32m━━━━━━━━━━━━━━━━━━━━\u001b[0m\u001b[37m\u001b[0m \u001b[1m0s\u001b[0m 5ms/step - loss: 2994972655616.0000 - mean_squared_error: 2994972655616.0000 - val_loss: 3401546727424.0000 - val_mean_squared_error: 3401546727424.0000\n",
            "Epoch 51/100\n",
            "\u001b[1m22/22\u001b[0m \u001b[32m━━━━━━━━━━━━━━━━━━━━\u001b[0m\u001b[37m\u001b[0m \u001b[1m0s\u001b[0m 6ms/step - loss: 3082594549760.0000 - mean_squared_error: 3082594549760.0000 - val_loss: 3547519516672.0000 - val_mean_squared_error: 3547519516672.0000\n",
            "Epoch 52/100\n",
            "\u001b[1m22/22\u001b[0m \u001b[32m━━━━━━━━━━━━━━━━━━━━\u001b[0m\u001b[37m\u001b[0m \u001b[1m0s\u001b[0m 6ms/step - loss: 3385573244928.0000 - mean_squared_error: 3385573244928.0000 - val_loss: 3419449327616.0000 - val_mean_squared_error: 3419449327616.0000\n",
            "Epoch 53/100\n",
            "\u001b[1m22/22\u001b[0m \u001b[32m━━━━━━━━━━━━━━━━━━━━\u001b[0m\u001b[37m\u001b[0m \u001b[1m0s\u001b[0m 5ms/step - loss: 2917006311424.0000 - mean_squared_error: 2917006311424.0000 - val_loss: 3483849195520.0000 - val_mean_squared_error: 3483849195520.0000\n",
            "Epoch 54/100\n",
            "\u001b[1m22/22\u001b[0m \u001b[32m━━━━━━━━━━━━━━━━━━━━\u001b[0m\u001b[37m\u001b[0m \u001b[1m0s\u001b[0m 5ms/step - loss: 2840463409152.0000 - mean_squared_error: 2840463409152.0000 - val_loss: 3407331196928.0000 - val_mean_squared_error: 3407331196928.0000\n",
            "Epoch 55/100\n",
            "\u001b[1m22/22\u001b[0m \u001b[32m━━━━━━━━━━━━━━━━━━━━\u001b[0m\u001b[37m\u001b[0m \u001b[1m0s\u001b[0m 6ms/step - loss: 3052784844800.0000 - mean_squared_error: 3052784844800.0000 - val_loss: 3401204105216.0000 - val_mean_squared_error: 3401204105216.0000\n",
            "Epoch 56/100\n",
            "\u001b[1m22/22\u001b[0m \u001b[32m━━━━━━━━━━━━━━━━━━━━\u001b[0m\u001b[37m\u001b[0m \u001b[1m0s\u001b[0m 5ms/step - loss: 3264307789824.0000 - mean_squared_error: 3264307789824.0000 - val_loss: 3406090993664.0000 - val_mean_squared_error: 3406090993664.0000\n",
            "Epoch 57/100\n",
            "\u001b[1m22/22\u001b[0m \u001b[32m━━━━━━━━━━━━━━━━━━━━\u001b[0m\u001b[37m\u001b[0m \u001b[1m0s\u001b[0m 7ms/step - loss: 3300989337600.0000 - mean_squared_error: 3300989337600.0000 - val_loss: 3401220882432.0000 - val_mean_squared_error: 3401220882432.0000\n",
            "Epoch 58/100\n",
            "\u001b[1m22/22\u001b[0m \u001b[32m━━━━━━━━━━━━━━━━━━━━\u001b[0m\u001b[37m\u001b[0m \u001b[1m0s\u001b[0m 5ms/step - loss: 2868940898304.0000 - mean_squared_error: 2868940898304.0000 - val_loss: 3402081501184.0000 - val_mean_squared_error: 3402081501184.0000\n",
            "Epoch 59/100\n",
            "\u001b[1m22/22\u001b[0m \u001b[32m━━━━━━━━━━━━━━━━━━━━\u001b[0m\u001b[37m\u001b[0m \u001b[1m0s\u001b[0m 7ms/step - loss: 3160263884800.0000 - mean_squared_error: 3160263884800.0000 - val_loss: 3401670197248.0000 - val_mean_squared_error: 3401670197248.0000\n",
            "Epoch 60/100\n",
            "\u001b[1m22/22\u001b[0m \u001b[32m━━━━━━━━━━━━━━━━━━━━\u001b[0m\u001b[37m\u001b[0m \u001b[1m0s\u001b[0m 6ms/step - loss: 2744549638144.0000 - mean_squared_error: 2744549638144.0000 - val_loss: 3412830453760.0000 - val_mean_squared_error: 3412830453760.0000\n",
            "Epoch 61/100\n",
            "\u001b[1m22/22\u001b[0m \u001b[32m━━━━━━━━━━━━━━━━━━━━\u001b[0m\u001b[37m\u001b[0m \u001b[1m0s\u001b[0m 5ms/step - loss: 3027331186688.0000 - mean_squared_error: 3027331186688.0000 - val_loss: 3418315816960.0000 - val_mean_squared_error: 3418315816960.0000\n",
            "Epoch 62/100\n",
            "\u001b[1m22/22\u001b[0m \u001b[32m━━━━━━━━━━━━━━━━━━━━\u001b[0m\u001b[37m\u001b[0m \u001b[1m0s\u001b[0m 9ms/step - loss: 2801346543616.0000 - mean_squared_error: 2801346543616.0000 - val_loss: 3417221103616.0000 - val_mean_squared_error: 3417221103616.0000\n",
            "Epoch 63/100\n",
            "\u001b[1m22/22\u001b[0m \u001b[32m━━━━━━━━━━━━━━━━━━━━\u001b[0m\u001b[37m\u001b[0m \u001b[1m0s\u001b[0m 9ms/step - loss: 3011847651328.0000 - mean_squared_error: 3011847651328.0000 - val_loss: 3447055974400.0000 - val_mean_squared_error: 3447055974400.0000\n",
            "Epoch 64/100\n",
            "\u001b[1m22/22\u001b[0m \u001b[32m━━━━━━━━━━━━━━━━━━━━\u001b[0m\u001b[37m\u001b[0m \u001b[1m0s\u001b[0m 7ms/step - loss: 3392929267712.0000 - mean_squared_error: 3392929267712.0000 - val_loss: 3428869734400.0000 - val_mean_squared_error: 3428869734400.0000\n",
            "Epoch 65/100\n",
            "\u001b[1m22/22\u001b[0m \u001b[32m━━━━━━━━━━━━━━━━━━━━\u001b[0m\u001b[37m\u001b[0m \u001b[1m0s\u001b[0m 9ms/step - loss: 2953137881088.0000 - mean_squared_error: 2953137881088.0000 - val_loss: 3401432170496.0000 - val_mean_squared_error: 3401432170496.0000\n",
            "Epoch 66/100\n",
            "\u001b[1m22/22\u001b[0m \u001b[32m━━━━━━━━━━━━━━━━━━━━\u001b[0m\u001b[37m\u001b[0m \u001b[1m0s\u001b[0m 8ms/step - loss: 3126191980544.0000 - mean_squared_error: 3126191980544.0000 - val_loss: 3401820405760.0000 - val_mean_squared_error: 3401820405760.0000\n",
            "Epoch 67/100\n",
            "\u001b[1m22/22\u001b[0m \u001b[32m━━━━━━━━━━━━━━━━━━━━\u001b[0m\u001b[37m\u001b[0m \u001b[1m0s\u001b[0m 8ms/step - loss: 2978182332416.0000 - mean_squared_error: 2978182332416.0000 - val_loss: 3402537107456.0000 - val_mean_squared_error: 3402537107456.0000\n",
            "Epoch 68/100\n",
            "\u001b[1m22/22\u001b[0m \u001b[32m━━━━━━━━━━━━━━━━━━━━\u001b[0m\u001b[37m\u001b[0m \u001b[1m0s\u001b[0m 9ms/step - loss: 3102785142784.0000 - mean_squared_error: 3102785142784.0000 - val_loss: 3401935486976.0000 - val_mean_squared_error: 3401935486976.0000\n",
            "Epoch 69/100\n",
            "\u001b[1m22/22\u001b[0m \u001b[32m━━━━━━━━━━━━━━━━━━━━\u001b[0m\u001b[37m\u001b[0m \u001b[1m0s\u001b[0m 9ms/step - loss: 3166865719296.0000 - mean_squared_error: 3166865719296.0000 - val_loss: 3439175925760.0000 - val_mean_squared_error: 3439175925760.0000\n",
            "Epoch 70/100\n",
            "\u001b[1m22/22\u001b[0m \u001b[32m━━━━━━━━━━━━━━━━━━━━\u001b[0m\u001b[37m\u001b[0m \u001b[1m0s\u001b[0m 7ms/step - loss: 2921670901760.0000 - mean_squared_error: 2921670901760.0000 - val_loss: 3456330366976.0000 - val_mean_squared_error: 3456330366976.0000\n",
            "Epoch 71/100\n",
            "\u001b[1m22/22\u001b[0m \u001b[32m━━━━━━━━━━━━━━━━━━━━\u001b[0m\u001b[37m\u001b[0m \u001b[1m0s\u001b[0m 5ms/step - loss: 3217437753344.0000 - mean_squared_error: 3217437753344.0000 - val_loss: 3403247255552.0000 - val_mean_squared_error: 3403247255552.0000\n",
            "Epoch 72/100\n",
            "\u001b[1m22/22\u001b[0m \u001b[32m━━━━━━━━━━━━━━━━━━━━\u001b[0m\u001b[37m\u001b[0m \u001b[1m0s\u001b[0m 5ms/step - loss: 3174261587968.0000 - mean_squared_error: 3174261587968.0000 - val_loss: 3405133119488.0000 - val_mean_squared_error: 3405133119488.0000\n",
            "Epoch 73/100\n",
            "\u001b[1m22/22\u001b[0m \u001b[32m━━━━━━━━━━━━━━━━━━━━\u001b[0m\u001b[37m\u001b[0m \u001b[1m0s\u001b[0m 5ms/step - loss: 3013823954944.0000 - mean_squared_error: 3013823954944.0000 - val_loss: 3458302738432.0000 - val_mean_squared_error: 3458302738432.0000\n",
            "Epoch 74/100\n",
            "\u001b[1m22/22\u001b[0m \u001b[32m━━━━━━━━━━━━━━━━━━━━\u001b[0m\u001b[37m\u001b[0m \u001b[1m0s\u001b[0m 6ms/step - loss: 3145192439808.0000 - mean_squared_error: 3145192439808.0000 - val_loss: 3403397464064.0000 - val_mean_squared_error: 3403397464064.0000\n",
            "Epoch 75/100\n",
            "\u001b[1m22/22\u001b[0m \u001b[32m━━━━━━━━━━━━━━━━━━━━\u001b[0m\u001b[37m\u001b[0m \u001b[1m0s\u001b[0m 5ms/step - loss: 2919655014400.0000 - mean_squared_error: 2919655014400.0000 - val_loss: 3449124028416.0000 - val_mean_squared_error: 3449124028416.0000\n",
            "Epoch 76/100\n",
            "\u001b[1m22/22\u001b[0m \u001b[32m━━━━━━━━━━━━━━━━━━━━\u001b[0m\u001b[37m\u001b[0m \u001b[1m0s\u001b[0m 6ms/step - loss: 3397938053120.0000 - mean_squared_error: 3397938053120.0000 - val_loss: 3404794167296.0000 - val_mean_squared_error: 3404794167296.0000\n",
            "Epoch 77/100\n",
            "\u001b[1m22/22\u001b[0m \u001b[32m━━━━━━━━━━━━━━━━━━━━\u001b[0m\u001b[37m\u001b[0m \u001b[1m0s\u001b[0m 7ms/step - loss: 3269167153152.0000 - mean_squared_error: 3269167153152.0000 - val_loss: 3401355624448.0000 - val_mean_squared_error: 3401355624448.0000\n",
            "Epoch 78/100\n",
            "\u001b[1m22/22\u001b[0m \u001b[32m━━━━━━━━━━━━━━━━━━━━\u001b[0m\u001b[37m\u001b[0m \u001b[1m0s\u001b[0m 5ms/step - loss: 2619195260928.0000 - mean_squared_error: 2619195260928.0000 - val_loss: 3465087287296.0000 - val_mean_squared_error: 3465087287296.0000\n",
            "Epoch 79/100\n",
            "\u001b[1m22/22\u001b[0m \u001b[32m━━━━━━━━━━━━━━━━━━━━\u001b[0m\u001b[37m\u001b[0m \u001b[1m0s\u001b[0m 7ms/step - loss: 2721806548992.0000 - mean_squared_error: 2721806548992.0000 - val_loss: 3405048184832.0000 - val_mean_squared_error: 3405048184832.0000\n",
            "Epoch 80/100\n",
            "\u001b[1m22/22\u001b[0m \u001b[32m━━━━━━━━━━━━━━━━━━━━\u001b[0m\u001b[37m\u001b[0m \u001b[1m0s\u001b[0m 5ms/step - loss: 3174561218560.0000 - mean_squared_error: 3174561218560.0000 - val_loss: 3402472357888.0000 - val_mean_squared_error: 3402472357888.0000\n",
            "Epoch 81/100\n",
            "\u001b[1m22/22\u001b[0m \u001b[32m━━━━━━━━━━━━━━━━━━━━\u001b[0m\u001b[37m\u001b[0m \u001b[1m0s\u001b[0m 5ms/step - loss: 3616274382848.0000 - mean_squared_error: 3616274382848.0000 - val_loss: 3410322259968.0000 - val_mean_squared_error: 3410322259968.0000\n",
            "Epoch 82/100\n",
            "\u001b[1m22/22\u001b[0m \u001b[32m━━━━━━━━━━━━━━━━━━━━\u001b[0m\u001b[37m\u001b[0m \u001b[1m0s\u001b[0m 6ms/step - loss: 2717344333824.0000 - mean_squared_error: 2717344333824.0000 - val_loss: 3478323462144.0000 - val_mean_squared_error: 3478323462144.0000\n",
            "Epoch 83/100\n",
            "\u001b[1m22/22\u001b[0m \u001b[32m━━━━━━━━━━━━━━━━━━━━\u001b[0m\u001b[37m\u001b[0m \u001b[1m0s\u001b[0m 5ms/step - loss: 3005284876288.0000 - mean_squared_error: 3005284876288.0000 - val_loss: 3472624713728.0000 - val_mean_squared_error: 3472624713728.0000\n",
            "Epoch 84/100\n",
            "\u001b[1m22/22\u001b[0m \u001b[32m━━━━━━━━━━━━━━━━━━━━\u001b[0m\u001b[37m\u001b[0m \u001b[1m0s\u001b[0m 5ms/step - loss: 3243117117440.0000 - mean_squared_error: 3243117117440.0000 - val_loss: 3412422557696.0000 - val_mean_squared_error: 3412422557696.0000\n",
            "Epoch 85/100\n",
            "\u001b[1m22/22\u001b[0m \u001b[32m━━━━━━━━━━━━━━━━━━━━\u001b[0m\u001b[37m\u001b[0m \u001b[1m0s\u001b[0m 5ms/step - loss: 2849584447488.0000 - mean_squared_error: 2849584447488.0000 - val_loss: 3493331730432.0000 - val_mean_squared_error: 3493331730432.0000\n",
            "Epoch 86/100\n",
            "\u001b[1m22/22\u001b[0m \u001b[32m━━━━━━━━━━━━━━━━━━━━\u001b[0m\u001b[37m\u001b[0m \u001b[1m0s\u001b[0m 6ms/step - loss: 2869120466944.0000 - mean_squared_error: 2869120466944.0000 - val_loss: 3697663016960.0000 - val_mean_squared_error: 3697663016960.0000\n",
            "Epoch 87/100\n",
            "\u001b[1m22/22\u001b[0m \u001b[32m━━━━━━━━━━━━━━━━━━━━\u001b[0m\u001b[37m\u001b[0m \u001b[1m0s\u001b[0m 5ms/step - loss: 2643714637824.0000 - mean_squared_error: 2643714637824.0000 - val_loss: 3406687371264.0000 - val_mean_squared_error: 3406687371264.0000\n",
            "Epoch 88/100\n",
            "\u001b[1m22/22\u001b[0m \u001b[32m━━━━━━━━━━━━━━━━━━━━\u001b[0m\u001b[37m\u001b[0m \u001b[1m0s\u001b[0m 14ms/step - loss: 2544545300480.0000 - mean_squared_error: 2544545300480.0000 - val_loss: 3452689186816.0000 - val_mean_squared_error: 3452689186816.0000\n",
            "Epoch 89/100\n",
            "\u001b[1m22/22\u001b[0m \u001b[32m━━━━━━━━━━━━━━━━━━━━\u001b[0m\u001b[37m\u001b[0m \u001b[1m0s\u001b[0m 5ms/step - loss: 3590296698880.0000 - mean_squared_error: 3590296698880.0000 - val_loss: 3401915826176.0000 - val_mean_squared_error: 3401915826176.0000\n",
            "Epoch 90/100\n",
            "\u001b[1m22/22\u001b[0m \u001b[32m━━━━━━━━━━━━━━━━━━━━\u001b[0m\u001b[37m\u001b[0m \u001b[1m0s\u001b[0m 5ms/step - loss: 3329056833536.0000 - mean_squared_error: 3329056833536.0000 - val_loss: 3419297546240.0000 - val_mean_squared_error: 3419297546240.0000\n",
            "Epoch 91/100\n",
            "\u001b[1m22/22\u001b[0m \u001b[32m━━━━━━━━━━━━━━━━━━━━\u001b[0m\u001b[37m\u001b[0m \u001b[1m0s\u001b[0m 5ms/step - loss: 2889942302720.0000 - mean_squared_error: 2889942302720.0000 - val_loss: 3489909178368.0000 - val_mean_squared_error: 3489909178368.0000\n",
            "Epoch 92/100\n",
            "\u001b[1m22/22\u001b[0m \u001b[32m━━━━━━━━━━━━━━━━━━━━\u001b[0m\u001b[37m\u001b[0m \u001b[1m0s\u001b[0m 5ms/step - loss: 2881890549760.0000 - mean_squared_error: 2881890549760.0000 - val_loss: 3402945265664.0000 - val_mean_squared_error: 3402945265664.0000\n",
            "Epoch 93/100\n",
            "\u001b[1m22/22\u001b[0m \u001b[32m━━━━━━━━━━━━━━━━━━━━\u001b[0m\u001b[37m\u001b[0m \u001b[1m0s\u001b[0m 7ms/step - loss: 2760550383616.0000 - mean_squared_error: 2760550383616.0000 - val_loss: 3401928671232.0000 - val_mean_squared_error: 3401928671232.0000\n",
            "Epoch 94/100\n",
            "\u001b[1m22/22\u001b[0m \u001b[32m━━━━━━━━━━━━━━━━━━━━\u001b[0m\u001b[37m\u001b[0m \u001b[1m0s\u001b[0m 5ms/step - loss: 3254554460160.0000 - mean_squared_error: 3254554460160.0000 - val_loss: 3401333342208.0000 - val_mean_squared_error: 3401333342208.0000\n",
            "Epoch 95/100\n",
            "\u001b[1m22/22\u001b[0m \u001b[32m━━━━━━━━━━━━━━━━━━━━\u001b[0m\u001b[37m\u001b[0m \u001b[1m0s\u001b[0m 6ms/step - loss: 3256031117312.0000 - mean_squared_error: 3256031117312.0000 - val_loss: 3438379794432.0000 - val_mean_squared_error: 3438379794432.0000\n",
            "Epoch 96/100\n",
            "\u001b[1m22/22\u001b[0m \u001b[32m━━━━━━━━━━━━━━━━━━━━\u001b[0m\u001b[37m\u001b[0m \u001b[1m0s\u001b[0m 7ms/step - loss: 3482449346560.0000 - mean_squared_error: 3482449346560.0000 - val_loss: 3410369445888.0000 - val_mean_squared_error: 3410369445888.0000\n",
            "Epoch 97/100\n",
            "\u001b[1m22/22\u001b[0m \u001b[32m━━━━━━━━━━━━━━━━━━━━\u001b[0m\u001b[37m\u001b[0m \u001b[1m0s\u001b[0m 5ms/step - loss: 3326326079488.0000 - mean_squared_error: 3326326079488.0000 - val_loss: 3402156212224.0000 - val_mean_squared_error: 3402156212224.0000\n",
            "Epoch 98/100\n",
            "\u001b[1m22/22\u001b[0m \u001b[32m━━━━━━━━━━━━━━━━━━━━\u001b[0m\u001b[37m\u001b[0m \u001b[1m0s\u001b[0m 6ms/step - loss: 2571599347712.0000 - mean_squared_error: 2571599347712.0000 - val_loss: 3595223433216.0000 - val_mean_squared_error: 3595223433216.0000\n",
            "Epoch 99/100\n",
            "\u001b[1m22/22\u001b[0m \u001b[32m━━━━━━━━━━━━━━━━━━━━\u001b[0m\u001b[37m\u001b[0m \u001b[1m0s\u001b[0m 5ms/step - loss: 3566362427392.0000 - mean_squared_error: 3566362427392.0000 - val_loss: 3420090793984.0000 - val_mean_squared_error: 3420090793984.0000\n",
            "Epoch 100/100\n",
            "\u001b[1m22/22\u001b[0m \u001b[32m━━━━━━━━━━━━━━━━━━━━\u001b[0m\u001b[37m\u001b[0m \u001b[1m0s\u001b[0m 5ms/step - loss: 3367352139776.0000 - mean_squared_error: 3367352139776.0000 - val_loss: 3425193689088.0000 - val_mean_squared_error: 3425193689088.0000\n"
          ]
        },
        {
          "output_type": "stream",
          "name": "stderr",
          "text": [
            "WARNING:absl:You are saving your model as an HDF5 file via `model.save()` or `keras.saving.save_model(model)`. This file format is considered legacy. We recommend using instead the native Keras format, e.g. `model.save('my_model.keras')` or `keras.saving.save_model(model, 'my_model.keras')`. \n"
          ]
        }
      ]
    }
  ]
}